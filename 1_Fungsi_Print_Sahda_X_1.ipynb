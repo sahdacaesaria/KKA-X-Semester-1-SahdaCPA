{
  "nbformat": 4,
  "nbformat_minor": 0,
  "metadata": {
    "colab": {
      "provenance": [],
      "authorship_tag": "ABX9TyM10HxKa0hUD0nVJ9c8Zedj",
      "include_colab_link": true
    },
    "kernelspec": {
      "name": "python3",
      "display_name": "Python 3"
    },
    "language_info": {
      "name": "python"
    }
  },
  "cells": [
    {
      "cell_type": "markdown",
      "metadata": {
        "id": "view-in-github",
        "colab_type": "text"
      },
      "source": [
        "<a href=\"https://colab.research.google.com/github/sahdacaesaria/KKA-X-Semester-1-SahdaCPA/blob/main/1_Fungsi_Print_Sahda_X_1.ipynb\" target=\"_parent\"><img src=\"https://colab.research.google.com/assets/colab-badge.svg\" alt=\"Open In Colab\"/></a>"
      ]
    },
    {
      "cell_type": "markdown",
      "source": [
        "Nama : Sahda Caesaria Putri Andita\n",
        "\n",
        "Kelas : X. 1\n",
        "\n",
        "Absen : 33"
      ],
      "metadata": {
        "id": "u6M1_1if1v_Y"
      }
    },
    {
      "cell_type": "markdown",
      "source": [],
      "metadata": {
        "id": "MEPSYLPjhpkM"
      }
    },
    {
      "cell_type": "code",
      "source": [],
      "metadata": {
        "id": "l4Z24Hnfhfmh"
      },
      "execution_count": null,
      "outputs": []
    },
    {
      "cell_type": "code",
      "source": [
        "print(\"SahdaCaesariaPutriAndita\")"
      ],
      "metadata": {
        "colab": {
          "base_uri": "https://localhost:8080/"
        },
        "id": "vdYg8Jrz50lB",
        "outputId": "45125042-b183-486d-d247-5e66b92a73ca"
      },
      "execution_count": null,
      "outputs": [
        {
          "output_type": "stream",
          "name": "stdout",
          "text": [
            "Sahda Caesaria Putri Andita\n"
          ]
        }
      ]
    },
    {
      "cell_type": "markdown",
      "source": [
        "#Menampilkan Nilai Variabel\n"
      ],
      "metadata": {
        "id": "e4ZiecO56Svo"
      }
    },
    {
      "cell_type": "code",
      "source": [
        "nama_idola=\"Kevin Sanjaya Sukamuljo\"\n",
        "print(nama_idola)"
      ],
      "metadata": {
        "colab": {
          "base_uri": "https://localhost:8080/"
        },
        "id": "6VRBqd6t6cqe",
        "outputId": "4d9f1a85-2cfc-407f-e0fe-e6eb826e3aaf"
      },
      "execution_count": null,
      "outputs": [
        {
          "output_type": "stream",
          "name": "stdout",
          "text": [
            "Kevin Sanjaya Sukamuljo\n"
          ]
        }
      ]
    },
    {
      "cell_type": "code",
      "source": [
        "usia = 30\n",
        "print(usia)"
      ],
      "metadata": {
        "colab": {
          "base_uri": "https://localhost:8080/"
        },
        "id": "CMXKBdCN6_QB",
        "outputId": "c78e22ca-a583-45af-aa27-26be71dd07bd"
      },
      "execution_count": null,
      "outputs": [
        {
          "output_type": "stream",
          "name": "stdout",
          "text": [
            "30\n"
          ]
        }
      ]
    },
    {
      "cell_type": "markdown",
      "source": [
        "Latihan soal:\n",
        "1. Buat variabel nama saudara & tampilkan\n",
        "2. Buat variabel jumlah saudara & tampilkan"
      ],
      "metadata": {
        "id": "n_Wk7eQG7Opc"
      }
    },
    {
      "cell_type": "code",
      "source": [
        "nama_saudara = \"Risma Ainur Afiati\"\n",
        "print (nama_saudara)"
      ],
      "metadata": {
        "colab": {
          "base_uri": "https://localhost:8080/"
        },
        "id": "SZbSEFQe8DzE",
        "outputId": "f70f6b4b-242b-43de-ebfa-645693a737c8"
      },
      "execution_count": null,
      "outputs": [
        {
          "output_type": "stream",
          "name": "stdout",
          "text": [
            "Risma Ainur Afiati\n"
          ]
        }
      ]
    },
    {
      "cell_type": "code",
      "source": [
        "jumlah_saudara = 2\n",
        "print (jumlah_saudara)"
      ],
      "metadata": {
        "colab": {
          "base_uri": "https://localhost:8080/"
        },
        "id": "_JsqrN_U8g-r",
        "outputId": "b914ef70-8410-4552-a79c-da6b4e1002c3"
      },
      "execution_count": null,
      "outputs": [
        {
          "output_type": "stream",
          "name": "stdout",
          "text": [
            "2\n"
          ]
        }
      ]
    },
    {
      "cell_type": "markdown",
      "source": [
        "#Menampilkan Nilai Variabel dan String"
      ],
      "metadata": {
        "id": "Igq9Jsd63O_F"
      }
    },
    {
      "cell_type": "code",
      "source": [
        "print (\"Nama idola saya adalah\",nama_idola,\". Usianya adalah\",usia,\"tahun.\")"
      ],
      "metadata": {
        "colab": {
          "base_uri": "https://localhost:8080/"
        },
        "id": "MoLwfYm_3fdp",
        "outputId": "b9c42044-8c72-4058-ecad-63edb29f4472"
      },
      "execution_count": null,
      "outputs": [
        {
          "output_type": "stream",
          "name": "stdout",
          "text": [
            "Nama idola saya adalah Kevin Sanjaya Sukamuljo . Usianya adalah 30 tahun.\n"
          ]
        }
      ]
    },
    {
      "cell_type": "code",
      "source": [
        "print(\"Nama idola saya adalah \" +nama_idola+ \". Usianya adalah\",usia,\"tahun.\")"
      ],
      "metadata": {
        "colab": {
          "base_uri": "https://localhost:8080/"
        },
        "id": "x2fEVQ2G4o_5",
        "outputId": "53458a82-cc2d-43a4-e192-23ae49c41e2c"
      },
      "execution_count": null,
      "outputs": [
        {
          "output_type": "stream",
          "name": "stdout",
          "text": [
            "Nama idola saya adalah Kevin Sanjaya Sukamuljo. Usianya adalah 30 tahun.\n"
          ]
        }
      ]
    },
    {
      "cell_type": "code",
      "source": [
        "print (f\"Nama idola saya adalah {nama_idola}. Usianya adalah {usia} tahun.\")"
      ],
      "metadata": {
        "colab": {
          "base_uri": "https://localhost:8080/"
        },
        "id": "GEuzkgRp5tKN",
        "outputId": "c8fe5c85-1a6e-4509-c7a9-a4f19209b344"
      },
      "execution_count": null,
      "outputs": [
        {
          "output_type": "stream",
          "name": "stdout",
          "text": [
            "Nama idola saya adalah Kevin Sanjaya Sukamuljo. Usianya adalah 30 tahun.\n"
          ]
        }
      ]
    },
    {
      "cell_type": "markdown",
      "source": [
        "#Escape Character"
      ],
      "metadata": {
        "id": "RWExBEAz9fPc"
      }
    },
    {
      "cell_type": "code",
      "source": [],
      "metadata": {
        "id": "PStKraaU_0Gd"
      },
      "execution_count": null,
      "outputs": []
    },
    {
      "cell_type": "code",
      "source": [
        "print (\"Nama: Sahda Caesaria Putri Andita\")\n",
        "print (\"Kelas: X.1\")\n",
        "print (\"No.Absen:33\" )"
      ],
      "metadata": {
        "colab": {
          "base_uri": "https://localhost:8080/"
        },
        "id": "9vxnNdLG9lLv",
        "outputId": "73001066-3e0a-4bc0-d021-08f41838dfdc"
      },
      "execution_count": null,
      "outputs": [
        {
          "output_type": "stream",
          "name": "stdout",
          "text": [
            "Nama: Sahda Caesaria Putri Andita\n",
            "Kelas: X.1\n",
            "No.Absen:33\n"
          ]
        }
      ]
    },
    {
      "cell_type": "code",
      "source": [
        "print (\"Nama: Sahda Caesaria Putri Andita\\nKelas:X.1\\nNo.Absen:33\")"
      ],
      "metadata": {
        "colab": {
          "base_uri": "https://localhost:8080/"
        },
        "id": "UJrBqjYc9_1M",
        "outputId": "5bd23322-2bea-4df2-8ad9-cf3181cb4e13"
      },
      "execution_count": null,
      "outputs": [
        {
          "output_type": "stream",
          "name": "stdout",
          "text": [
            "Nama: Sahda Caesaria Putri Andita\n",
            "Kelas:X.1\n",
            "No.Absen:33\n"
          ]
        }
      ]
    },
    {
      "cell_type": "code",
      "source": [
        "print(\"\"\"Nama\\t\\t: Sahda Caesaria Putri Andita\n",
        "Kelas\\t\\t: X.1\n",
        "No. Absen\\t: 33\"\"\")"
      ],
      "metadata": {
        "colab": {
          "base_uri": "https://localhost:8080/"
        },
        "id": "Hv1uIBo4-Rzw",
        "outputId": "0e19b7e7-2694-49d0-83c9-1ddd1063607d"
      },
      "execution_count": null,
      "outputs": [
        {
          "output_type": "stream",
          "name": "stdout",
          "text": [
            "Nama\t\t: Sahda Caesaria Putri Andita\n",
            "Kelas\t\t: X.1\n",
            "No. Absen\t: 33\n"
          ]
        }
      ]
    },
    {
      "cell_type": "code",
      "source": [
        "print (\"Halo Nama Saya Habib Jafar\")"
      ],
      "metadata": {
        "colab": {
          "base_uri": "https://localhost:8080/"
        },
        "id": "u4amgpZHhtpf",
        "outputId": "43026daa-a5c0-47cf-efe4-d72746cc657a"
      },
      "execution_count": null,
      "outputs": [
        {
          "output_type": "stream",
          "name": "stdout",
          "text": [
            "Halo Nama Saya Habib Jafar\n"
          ]
        }
      ]
    },
    {
      "cell_type": "code",
      "source": [
        "print ('Halo Nama Saya Habib Jafar')"
      ],
      "metadata": {
        "colab": {
          "base_uri": "https://localhost:8080/"
        },
        "id": "U7fLlLQ5h6nG",
        "outputId": "aaaffd14-ec0e-449c-ead9-8cbf373f13e8"
      },
      "execution_count": null,
      "outputs": [
        {
          "output_type": "stream",
          "name": "stdout",
          "text": [
            "Halo Nama Saya Habib Jafar\n"
          ]
        }
      ]
    },
    {
      "cell_type": "code",
      "source": [
        "print ('Halo Nama Saya Habib Ja\\'far')"
      ],
      "metadata": {
        "colab": {
          "base_uri": "https://localhost:8080/"
        },
        "id": "JmDc_kVgiDbs",
        "outputId": "5d4d5e39-2753-438f-f22e-b8f045e93f30"
      },
      "execution_count": null,
      "outputs": [
        {
          "output_type": "stream",
          "name": "stdout",
          "text": [
            "Halo Nama Saya Habib Ja'far\n"
          ]
        }
      ]
    },
    {
      "cell_type": "code",
      "source": [
        "print (\"Halo Nama Saya Habib Ja'far\")"
      ],
      "metadata": {
        "colab": {
          "base_uri": "https://localhost:8080/"
        },
        "id": "aMoWxr8DiOta",
        "outputId": "d620b312-eeb7-4483-d604-d6a0f678bd54"
      },
      "execution_count": null,
      "outputs": [
        {
          "output_type": "stream",
          "name": "stdout",
          "text": [
            "Halo Nama Saya Habib Ja'far\n"
          ]
        }
      ]
    },
    {
      "cell_type": "code",
      "source": [
        "print (\"Bu Shinta berkata, \\\"Tolong fokus ke TV sejenak. \\\"\")"
      ],
      "metadata": {
        "colab": {
          "base_uri": "https://localhost:8080/"
        },
        "id": "84gyWh8wiXkO",
        "outputId": "cacab551-685e-4bc2-fa8d-54a99d871a8d"
      },
      "execution_count": null,
      "outputs": [
        {
          "output_type": "stream",
          "name": "stdout",
          "text": [
            "Bu Shinta berkata, \"Tolong fokus ke TV sejenak. \"\n"
          ]
        }
      ]
    },
    {
      "cell_type": "code",
      "source": [
        "print ('Bu Shinta berkata, \"Tolong fokus ke TV sejenak.\\\"' )"
      ],
      "metadata": {
        "colab": {
          "base_uri": "https://localhost:8080/"
        },
        "id": "98KrvyrNisLt",
        "outputId": "83973201-6b8d-4f26-9fd7-6e762e634ddf"
      },
      "execution_count": null,
      "outputs": [
        {
          "output_type": "stream",
          "name": "stdout",
          "text": [
            "Bu Shinta berkata, \"Tolong fokus ke TV sejenak.\"\n"
          ]
        }
      ]
    },
    {
      "cell_type": "code",
      "source": [
        "print (\"Silahkan simpan file tugas KKA di folder Local disk D:\\\\MAN DEMAK\\\\KKA\\\\TUGAS\")"
      ],
      "metadata": {
        "colab": {
          "base_uri": "https://localhost:8080/"
        },
        "id": "CAgudVLsi6EE",
        "outputId": "4bc3000d-3d0f-4bcf-d7ae-168887c900a7"
      },
      "execution_count": null,
      "outputs": [
        {
          "output_type": "stream",
          "name": "stdout",
          "text": [
            "Silahkan simpan file tugas KKA di folder Local disk D:\\MAN DEMAK\\KKA\\TUGAS\n"
          ]
        }
      ]
    },
    {
      "cell_type": "markdown",
      "source": [],
      "metadata": {
        "id": "D_VtE8lVpFf8"
      }
    },
    {
      "cell_type": "code",
      "source": [
        "print ('Bu Shinta berkata, \"Berikut adalah daftar piket harian kelas X.2 yang disimpan di file D:\\\\MAN Demak\\\\Jadwal piket.\"\\n\\nSenin\\tSelasa\\tRabu\\nJielo\\tHasbi\\tNaufal\\t\\nAzam\\tA\\'inun\\tNurul\\t')\n"
      ],
      "metadata": {
        "colab": {
          "base_uri": "https://localhost:8080/"
        },
        "id": "HIjXHtlnul5A",
        "outputId": "6abe0c8b-2057-4606-d147-5744271f9526"
      },
      "execution_count": null,
      "outputs": [
        {
          "output_type": "stream",
          "name": "stdout",
          "text": [
            "Bu Shinta berkata, \"Berikut adalah daftar piket harian kelas X.2 yang disimpan di file D:\\MAN Demak\\Jadwal piket.\"\n",
            "\n",
            "Senin\tSelasa\tRabu\n",
            "Jielo\tHasbi\tNaufal\t\n",
            "Azam\tA'inun\tNurul\t\n"
          ]
        }
      ]
    },
    {
      "cell_type": "markdown",
      "source": [
        "#Parameter Fungsi Print"
      ],
      "metadata": {
        "id": "VqdK40TSpHqm"
      }
    },
    {
      "cell_type": "code",
      "source": [
        "nama_siswa_1 = \"Dias\"\n",
        "nama_siswa_2 = \"Disa\"\n",
        "\n",
        "print (nama_siswa_1,end=\" \")\n",
        "print (nama_siswa_2)\n"
      ],
      "metadata": {
        "colab": {
          "base_uri": "https://localhost:8080/"
        },
        "id": "FZW0pWNVpNXW",
        "outputId": "a4164bd2-3a62-44a9-a260-74db0684375a"
      },
      "execution_count": null,
      "outputs": [
        {
          "output_type": "stream",
          "name": "stdout",
          "text": [
            "Dias Disa\n"
          ]
        }
      ]
    },
    {
      "cell_type": "code",
      "source": [
        "print (nama_siswa_1, nama_siswa_2)"
      ],
      "metadata": {
        "colab": {
          "base_uri": "https://localhost:8080/"
        },
        "id": "oxMWilY3p0Cx",
        "outputId": "b95080d5-db29-450e-9599-6478beffea3b"
      },
      "execution_count": null,
      "outputs": [
        {
          "output_type": "stream",
          "name": "stdout",
          "text": [
            "Dias Disa\n"
          ]
        }
      ]
    },
    {
      "cell_type": "code",
      "source": [
        "print (nama_siswa_1, nama_siswa_2, sep=\"-\")"
      ],
      "metadata": {
        "colab": {
          "base_uri": "https://localhost:8080/"
        },
        "id": "jw7ibvpQp_-k",
        "outputId": "ca723e88-fa7e-467a-cb82-acc8d7eed778"
      },
      "execution_count": null,
      "outputs": [
        {
          "output_type": "stream",
          "name": "stdout",
          "text": [
            "Dias-Disa\n"
          ]
        }
      ]
    },
    {
      "cell_type": "code",
      "source": [
        "nama_siswa_3 = \"kinan\"\n",
        "nama_siswa_4 = \"Azka\"\n",
        "nama_siswa_5 = \"Naufal\"\n",
        "nama_siswa_6 = \"Ridho\"\n",
        "print (nama_siswa_6,nama_siswa_3,nama_siswa_5,nama_siswa_4,nama_siswa_4 ,sep=\"/\")"
      ],
      "metadata": {
        "colab": {
          "base_uri": "https://localhost:8080/"
        },
        "id": "XzSkHuLRqOEp",
        "outputId": "9918d44e-9b05-406f-891c-f823929b5548"
      },
      "execution_count": null,
      "outputs": [
        {
          "output_type": "stream",
          "name": "stdout",
          "text": [
            "Ridho/kinan/Naufal/Azka/Azka\n"
          ]
        }
      ]
    },
    {
      "cell_type": "code",
      "source": [
        "print (nama_siswa_4, end = \"*\")\n",
        "print (nama_siswa_4, end =\"*\")\n",
        "print (nama_siswa_5, end = \"*\")\n",
        "print (nama_siswa_3, end =\"*\")\n",
        "print (nama_siswa_6)"
      ],
      "metadata": {
        "colab": {
          "base_uri": "https://localhost:8080/"
        },
        "id": "nkQF1TyOrR6p",
        "outputId": "3701cdaa-f53b-4422-9e49-229ff1850c5f"
      },
      "execution_count": null,
      "outputs": [
        {
          "output_type": "stream",
          "name": "stdout",
          "text": [
            "Azka*Azka*Naufal*kinan*Ridho\n"
          ]
        }
      ]
    }
  ]
}